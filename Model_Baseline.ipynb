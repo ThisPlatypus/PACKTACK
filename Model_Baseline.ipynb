{
 "cells": [
  {
   "cell_type": "code",
   "execution_count": 5,
   "metadata": {
    "collapsed": true
   },
   "outputs": [],
   "source": [
    "import pandas as pd\n",
    "\n",
    "#'CTU-IoT-Malware-Capture-43-1', 'CTU-IoT-Malware-Capture-17-1','CTU-IoT-Malware-Capture-33-1','CTU-IoT-Malware-Capture-39-1',\n",
    "dataset_name=['CTU-IoT-Malware-Capture-21-1','CTU-IoT-Malware-Capture-42-1','CTU-IoT-Malware-Capture-52-1','CTU-IoT-Malware-Capture-20-1','CTU-IoT-Malware-Capture-60-1','CTU-IoT-Malware-Capture-36-1','CTU-IoT-Malware-Capture-8-1','CTU-IoT-Malware-Capture-35-1','CTU-IoT-Malware-Capture-48-1','CTU-IoT-Malware-Capture-7-1','CTU-IoT-Malware-Capture-9-1','CTU-IoT-Malware-Capture-3-1','CTU-IoT-Malware-Capture-1-1','CTU-IoT-Malware-Capture-34-1','CTU-IoT-Malware-Capture-44-1','CTU-IoT-Malware-Capture-49-1']\n",
    "dati={}\n",
    "for data_name in dataset_name:\n",
    "    dati[data_name] = pd.read_csv(f\"/Users/chiara/PycharmProjects/PACKTACK/CleanData/{data_name}.txt\", sep=\"\\t\", header=0)\n"
   ]
  },
  {
   "cell_type": "code",
   "execution_count": null,
   "outputs": [],
   "source": [
    "# Standardizzation\n",
    "from sklearn import preprocessing\n",
    "import numpy as np\n",
    "\n",
    "\n",
    "Ys_label={}\n",
    "Xs_fact, Xs_num, Xs_std={}, {},{}\n",
    "for dato in dati:\n",
    "    Ys_label[dato]= dati[dato].label.map({'Benign':0,'Malicious':1})\n",
    "    Xs_fact = dati[dato].drop(labels=[\"duration\",\"orig_bytes\",\"resp_bytes\",\"local_orig\",\"local_resp\",\"missed_bytes\",\"tunnel_parents\" ,\"label\",\"detailed.label\"], axis=1)\n",
    "    Xs_num[dato]= dati[dato].select_dtypes(include=np.number).drop(labels=['ts', 'id.orig_p', 'id.resp_p' ], axis=1)\n",
    "\n",
    "    Xs_std[dato] = preprocessing.scale(Xs_num[dato])\n"
   ],
   "metadata": {
    "collapsed": false
   }
  },
  {
   "cell_type": "markdown",
   "source": [
    "# Random forest with only numeric features\n"
   ],
   "metadata": {
    "collapsed": false
   }
  },
  {
   "cell_type": "markdown",
   "source": [],
   "metadata": {
    "collapsed": false
   }
  },
  {
   "cell_type": "code",
   "execution_count": null,
   "outputs": [],
   "source": [
    "\n",
    "# Modelling\n",
    "from sklearn.ensemble import RandomForestClassifier\n",
    "from sklearn.metrics import accuracy_score, confusion_matrix, precision_score, recall_score, ConfusionMatrixDisplay\n",
    "from sklearn.model_selection import RandomizedSearchCV, train_test_split\n",
    "from scipy.stats import randint\n",
    "\n",
    "# Tree Visualisation\n",
    "from sklearn.tree import export_graphviz\n",
    "from IPython.display import Image\n",
    "\n",
    "import graphviz"
   ],
   "metadata": {
    "collapsed": false
   }
  },
  {
   "cell_type": "code",
   "execution_count": null,
   "outputs": [],
   "source": [
    "len(Xs_std[dato])"
   ],
   "metadata": {
    "collapsed": false
   }
  },
  {
   "cell_type": "code",
   "execution_count": 69,
   "outputs": [
    {
     "name": "stdout",
     "output_type": "stream",
     "text": [
      "Accuracy CTU-IoT-Malware-Capture-21-1: 1.0\n",
      "Accuracy CTU-IoT-Malware-Capture-42-1: 1.0\n",
      "Accuracy CTU-IoT-Malware-Capture-52-1: 0.9999939336876228\n",
      "Accuracy CTU-IoT-Malware-Capture-20-1: 1.0\n",
      "Accuracy CTU-IoT-Malware-Capture-60-1: 0.976\n",
      "Accuracy CTU-IoT-Malware-Capture-36-1: 1.0\n",
      "Accuracy CTU-IoT-Malware-Capture-8-1: 1.0\n",
      "Accuracy CTU-IoT-Malware-Capture-35-1: 0.999988362765838\n",
      "Accuracy CTU-IoT-Malware-Capture-48-1: 1.0\n",
      "Accuracy CTU-IoT-Malware-Capture-7-1: 0.9998578535891969\n",
      "Accuracy CTU-IoT-Malware-Capture-9-1: 1.0\n",
      "Accuracy CTU-IoT-Malware-Capture-3-1: 0.9995131450827653\n",
      "Accuracy CTU-IoT-Malware-Capture-1-1: 0.9291127324076254\n",
      "Accuracy CTU-IoT-Malware-Capture-34-1: 0.996244131455399\n",
      "Accuracy CTU-IoT-Malware-Capture-44-1: 0.96875\n",
      "Accuracy CTU-IoT-Malware-Capture-49-1: 0.9999990758812396\n"
     ]
    }
   ],
   "source": [
    "# Split data\n",
    "X_train={}\n",
    "X_test={}\n",
    "y_train={}\n",
    "y_test={}\n",
    "Acc={}\n",
    "for dato in dati:\n",
    "    X_train[dato], X_test[dato], y_train[dato], y_test[dato] = train_test_split(Xs_std[dato], Ys_label[dato], test_size=0.2)\n",
    "    Y=np.array(y_train[dato])\n",
    "    rf = RandomForestClassifier()\n",
    "    rf.fit(X_train[dato], y_train[dato])\n",
    "    y_pred = rf.predict(X_test[dato])\n",
    "    accuracy = accuracy_score(y_test[dato], y_pred)\n",
    "    print(f'Accuracy {dato}:', accuracy)"
   ],
   "metadata": {
    "collapsed": false
   }
  },
  {
   "cell_type": "code",
   "execution_count": 1,
   "outputs": [
    {
     "ename": "NameError",
     "evalue": "name 'dati' is not defined",
     "output_type": "error",
     "traceback": [
      "\u001B[0;31m---------------------------------------------------------------------------\u001B[0m",
      "\u001B[0;31mNameError\u001B[0m                                 Traceback (most recent call last)",
      "Cell \u001B[0;32mIn[1], line 2\u001B[0m\n\u001B[1;32m      1\u001B[0m best_rf\u001B[38;5;241m=\u001B[39m{}\n\u001B[0;32m----> 2\u001B[0m \u001B[38;5;28;01mfor\u001B[39;00m dato \u001B[38;5;129;01min\u001B[39;00m \u001B[43mdati\u001B[49m:\n\u001B[1;32m      3\u001B[0m     param_dist \u001B[38;5;241m=\u001B[39m {\u001B[38;5;124m'\u001B[39m\u001B[38;5;124mn_estimators\u001B[39m\u001B[38;5;124m'\u001B[39m: randint(\u001B[38;5;241m50\u001B[39m,\u001B[38;5;241m500\u001B[39m),\n\u001B[1;32m      4\u001B[0m                   \u001B[38;5;124m'\u001B[39m\u001B[38;5;124mmax_depth\u001B[39m\u001B[38;5;124m'\u001B[39m: randint(\u001B[38;5;241m1\u001B[39m,\u001B[38;5;241m20\u001B[39m)}\n\u001B[1;32m      6\u001B[0m     \u001B[38;5;66;03m# Create a random forest classifier\u001B[39;00m\n",
      "\u001B[0;31mNameError\u001B[0m: name 'dati' is not defined"
     ]
    }
   ],
   "source": [
    "best_rf={}\n",
    "for dato in dati:\n",
    "    param_dist = {'n_estimators': randint(50,500),\n",
    "                  'max_depth': randint(1,20)}\n",
    "\n",
    "    # Create a random forest classifier\n",
    "    rf = RandomForestClassifier()\n",
    "\n",
    "    # Use random search to find the best hyperparameters\n",
    "    rand_search = RandomizedSearchCV(rf,\n",
    "                                     param_distributions = param_dist,\n",
    "                                     n_iter=5,\n",
    "                                     cv=5)\n",
    "\n",
    "    # Fit the random search object to the data\n",
    "    rand_search.fit( X_train[dato], y_train[dato])\n",
    "    # Create a variable for the best model\n",
    "    best_rf[dato] = rand_search.best_estimator_\n",
    "\n",
    "    # Print the best hyperparameters\n",
    "    print(f'{dato} - Best hyperparameters:',  rand_search.best_params_)"
   ],
   "metadata": {
    "collapsed": false
   }
  }
 ],
 "metadata": {
  "kernelspec": {
   "display_name": "Python 3",
   "language": "python",
   "name": "python3"
  },
  "language_info": {
   "codemirror_mode": {
    "name": "ipython",
    "version": 2
   },
   "file_extension": ".py",
   "mimetype": "text/x-python",
   "name": "python",
   "nbconvert_exporter": "python",
   "pygments_lexer": "ipython2",
   "version": "2.7.6"
  }
 },
 "nbformat": 4,
 "nbformat_minor": 0
}
