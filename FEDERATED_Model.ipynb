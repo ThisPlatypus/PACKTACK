{
 "cells": [
  {
   "cell_type": "markdown",
   "source": [
    "# Random Forest"
   ],
   "metadata": {
    "collapsed": false
   }
  },
  {
   "cell_type": "code",
   "execution_count": null,
   "outputs": [],
   "source": [
    "import functools\n",
    "import numpy as np\n",
    "import pandas as pd\n",
    "import sklearn\n",
    "from sklearn.datasets import load_iris\n",
    "import functools\n",
    "from sklearn.ensemble import RandomForestClassifier\n",
    "from sklearn.metrics import accuracy_score, confusion_matrix, precision_score, recall_score, ConfusionMatrixDisplay\n",
    "from sklearn.model_selection import RandomizedSearchCV, train_test_split\n",
    "from scipy.stats import randint"
   ],
   "metadata": {
    "collapsed": false
   }
  },
  {
   "cell_type": "code",
   "execution_count": null,
   "outputs": [],
   "source": [
    "# Data set information\n",
    "\n",
    "#'CTU-IoT-Malware-Capture-43-1', 'CTU-IoT-Malware-Capture-17-1','CTU-IoT-Malware-Capture-33-1','CTU-IoT-Malware-Capture-39-1',\n",
    "dataset_name=['CTU-IoT-Malware-Capture-21-1','CTU-IoT-Malware-Capture-42-1','CTU-IoT-Malware-Capture-52-1','CTU-IoT-Malware-Capture-20-1','CTU-IoT-Malware-Capture-60-1','CTU-IoT-Malware-Capture-36-1','CTU-IoT-Malware-Capture-8-1','CTU-IoT-Malware-Capture-35-1','CTU-IoT-Malware-Capture-48-1','CTU-IoT-Malware-Capture-7-1','CTU-IoT-Malware-Capture-9-1','CTU-IoT-Malware-Capture-3-1','CTU-IoT-Malware-Capture-1-1','CTU-IoT-Malware-Capture-34-1','CTU-IoT-Malware-Capture-44-1','CTU-IoT-Malware-Capture-49-1']\n",
    "\n",
    "# LOAD DATA\n",
    "dati={}\n",
    "for data_name in dataset_name:\n",
    "    dati[data_name] = pd.read_csv(f\"/Users/chiara/PycharmProjects/PACKTACK/CleanData/{data_name}.txt\", sep=\"\\t\", header=0)"
   ],
   "metadata": {
    "collapsed": false
   }
  },
  {
   "cell_type": "code",
   "execution_count": null,
   "outputs": [],
   "source": [
    "\n",
    "\n",
    "dataset_name=['CTU-IoT-Malware-Capture-21-1','CTU-IoT-Malware-Capture-42-1']\n",
    "# Standardizzation\n",
    "from sklearn import preprocessing\n",
    "import numpy as np\n",
    "\n",
    "\n",
    "Ys_label={}\n",
    "Xs_fact, Xs_num, Xs_std={}, {},{}\n",
    "for dato in dati:\n",
    "    Ys_label[dato]= dati[dato].label.map({'Benign':0,'Malicious':1})\n",
    "    Xs_fact = dati[dato].drop(labels=[\"duration\",\"orig_bytes\",\"resp_bytes\",\"local_orig\",\"local_resp\",\"missed_bytes\",\"tunnel_parents\" ,\"label\",\"detailed.label\"], axis=1)\n",
    "    Xs_num[dato]= dati[dato].select_dtypes(include=np.number).drop(labels=['ts', 'id.orig_p', 'id.resp_p' ], axis=1)\n",
    "\n",
    "    Xs_std[dato] = preprocessing.scale(Xs_num[dato])\n",
    "\n",
    "# Split data\n",
    "X_train={}\n",
    "X_test={}\n",
    "y_train={}\n",
    "y_test={}\n",
    "\n",
    "for dato in dati:\n",
    "    X_train[dato], X_test[dato], y_train[dato], y_test[dato] = train_test_split(Xs_std[dato], Ys_label[dato], test_size=0.2)\n"
   ],
   "metadata": {
    "collapsed": false
   }
  },
  {
   "cell_type": "code",
   "execution_count": null,
   "outputs": [],
   "source": [
    "# FIND THE BEST PARAMETER\n",
    "\n",
    "best_rf={}\n",
    "for dato in dati:\n",
    "    param_dist = {'n_estimators': randint(50,500),\n",
    "                  'max_depth': randint(1,20)}\n",
    "\n",
    "    # Create a random forest classifier\n",
    "    rf = RandomForestClassifier()\n",
    "\n",
    "    # Use random search to find the best hyperparameters\n",
    "    rand_search = RandomizedSearchCV(rf,\n",
    "                                     param_distributions = param_dist,\n",
    "                                     n_iter=5,\n",
    "                                     cv=5)\n",
    "\n",
    "    # Fit the random search object to the data\n",
    "    rand_search.fit( X_train[dato], y_train[dato])\n",
    "    # Create a variable for the best model\n",
    "    best_rf[dato] = rand_search.best_estimator_\n",
    "\n",
    "    # Print the best hyperparameters\n",
    "    print(f'{dato} - Best hyperparameters:',  rand_search.best_params_)"
   ],
   "metadata": {
    "collapsed": false
   }
  },
  {
   "cell_type": "code",
   "execution_count": null,
   "outputs": [],
   "source": [
    "\n",
    "RandomForestClassifier(best_rf['CTU-IoT-Malware-Capture-21-1'])"
   ],
   "metadata": {
    "collapsed": false
   }
  },
  {
   "cell_type": "code",
   "execution_count": 139,
   "outputs": [],
   "source": [
    "# Function for generate the RF_Classifier\n",
    "def generate_rf(X_train, y_train, X_test, y_test):\n",
    "    rf = RandomForestClassifier(max_depth=2, random_state=0)\n",
    "    rf.fit(X_train, y_train)\n",
    "    print (\"rf score \", rf.score(X_test, y_test))\n",
    "    y_pred = rf.predict(X_test)\n",
    "    #accuracy = accuracy_score(y_test, y_pred)\n",
    "    return rf\n",
    "\n",
    "# Aggregation RF\n",
    "def combine_rfs(rf_a, rf_b):\n",
    "    for i in range(100):\n",
    "        rf_a.estimators_[i].max_depth = (rf_b.estimators_[i].max_depth + rf_b.estimators_[i].max_depth )/len(rf_a.estimators_) #TODO tenendo fissi gli alberi, fare funzione che fa la media dei nodi\n",
    "\n",
    "    rf_a.n_estimators = len(rf_a.estimators_)\n",
    "    return rf_a\n",
    "\n"
   ],
   "metadata": {
    "collapsed": false
   }
  },
  {
   "cell_type": "code",
   "execution_count": 140,
   "outputs": [
    {
     "name": "stdout",
     "output_type": "stream",
     "text": [
      "rf score  0.9952941176470588\n",
      "rf score  1.0\n",
      "rf combined score 0.9952941176470588\n"
     ]
    }
   ],
   "source": [
    "# TRAIN\n",
    "rfs=[]\n",
    "for dato in ['CTU-IoT-Malware-Capture-21-1','CTU-IoT-Malware-Capture-42-1']: #dati:\n",
    "    rfs.append( generate_rf(X_train[dato], y_train[dato], X_test[dato], y_test[dato]))\n",
    "rf_combined = functools.reduce(combine_rfs,rfs)\n",
    "# the combined model scores better than *most* of the component models\n",
    "print (\"rf combined score\", rf_combined.score(X_test['CTU-IoT-Malware-Capture-21-1'], y_test['CTU-IoT-Malware-Capture-21-1']))"
   ],
   "metadata": {
    "collapsed": false
   }
  },
  {
   "cell_type": "code",
   "execution_count": null,
   "outputs": [],
   "source": [
    "rfs=[]\n",
    "for dato in ['CTU-IoT-Malware-Capture-21-1','CTU-IoT-Malware-Capture-42-1']: #dati:\n",
    "    rfs.append( generate_rf(X_train[dato], y_train[dato], X_test[dato], y_test[dato], best_rf[dato]))\n",
    "rf_combined = functools.reduce(combine_rfs,rfs)\n"
   ],
   "metadata": {
    "collapsed": false
   }
  },
  {
   "cell_type": "code",
   "execution_count": null,
   "outputs": [],
   "source": [
    "rf_combined.estimators_"
   ],
   "metadata": {
    "collapsed": false
   }
  },
  {
   "cell_type": "code",
   "execution_count": null,
   "outputs": [],
   "source": [
    "combine_rfs.estimators_"
   ],
   "metadata": {
    "collapsed": false
   }
  },
  {
   "cell_type": "code",
   "execution_count": null,
   "outputs": [],
   "source": [
    "best_rf"
   ],
   "metadata": {
    "collapsed": false
   }
  },
  {
   "cell_type": "code",
   "execution_count": null,
   "outputs": [],
   "source": [
    "np.concatenate([X_test['CTU-IoT-Malware-Capture-21-1'],X_test['CTU-IoT-Malware-Capture-42-1']], axis=0)"
   ],
   "metadata": {
    "collapsed": false
   }
  },
  {
   "cell_type": "code",
   "execution_count": null,
   "outputs": [],
   "source": [
    "X_test['CTU-IoT-Malware-Capture-42-1'].shape"
   ],
   "metadata": {
    "collapsed": false
   }
  },
  {
   "cell_type": "code",
   "execution_count": null,
   "outputs": [],
   "source": [
    "iris = load_iris()\n",
    "X, y = iris.data[:, [0,1,2]], iris.target\n",
    "X_train, X_test, y_train, y_test = train_test_split(X, y, test_size=.33)\n",
    "# in the line below, we create 10 random forest classifier models\n",
    "rfs = [generate_rf(X_train, y_train, X_test, y_test) for i in range(10)]"
   ],
   "metadata": {
    "collapsed": false
   }
  },
  {
   "cell_type": "code",
   "execution_count": null,
   "outputs": [],
   "source": [
    "def generate_rf(X_train, y_train, X_test, y_test):\n",
    "    rf = RandomForestClassifier(n_estimators=5, min_samples_leaf=3)\n",
    "    rf.fit(X_train, y_train)\n",
    "    print (\"rf score \", rf.score(X_test, y_test))\n",
    "    return rf\n",
    "\n",
    "def combine_rfs(rf_a, rf_b):\n",
    "    rf_a.estimators_ += rf_b.estimators_\n",
    "    rf_a.n_estimators = len(rf_a.estimators_)\n",
    "    return rf_a"
   ],
   "metadata": {
    "collapsed": false
   }
  },
  {
   "cell_type": "code",
   "execution_count": null,
   "outputs": [],
   "source": [
    "rfs"
   ],
   "metadata": {
    "collapsed": false
   }
  },
  {
   "cell_type": "code",
   "execution_count": null,
   "outputs": [],
   "source": [],
   "metadata": {
    "collapsed": false
   }
  }
 ],
 "metadata": {
  "kernelspec": {
   "display_name": "Python 3",
   "language": "python",
   "name": "python3"
  },
  "language_info": {
   "codemirror_mode": {
    "name": "ipython",
    "version": 2
   },
   "file_extension": ".py",
   "mimetype": "text/x-python",
   "name": "python",
   "nbconvert_exporter": "python",
   "pygments_lexer": "ipython2",
   "version": "2.7.6"
  }
 },
 "nbformat": 4,
 "nbformat_minor": 0
}
