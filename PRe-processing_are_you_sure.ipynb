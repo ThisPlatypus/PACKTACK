{
 "cells": [
  {
   "cell_type": "code",
   "execution_count": 3,
   "metadata": {
    "collapsed": true
   },
   "outputs": [],
   "source": [
    "from scapy.all import *\n",
    "\n",
    "\n",
    "\n",
    "pcap_file = rdpcap(\"C:\\\\Users\\\\chiar\\\\Downloads\\\\2018-10-02-13-12-30-192.168.100.103.pcap\")"
   ]
  },
  {
   "cell_type": "markdown",
   "source": [
    "# Protocolli presenti"
   ],
   "metadata": {
    "collapsed": false
   }
  },
  {
   "cell_type": "code",
   "execution_count": 55,
   "outputs": [],
   "source": [
    "prot={}\n",
    "for pack in pcap_file:\n",
    "    a=pcap_file[0]['IP'].proto\n",
    "    if a==17:\n",
    "        a='udp'\n",
    "    if a in prot.keys():\n",
    "        prot[a]+=1\n",
    "    else:\n",
    "        prot[a]=1"
   ],
   "metadata": {
    "collapsed": false
   }
  },
  {
   "cell_type": "code",
   "execution_count": 56,
   "outputs": [
    {
     "name": "stdout",
     "output_type": "stream",
     "text": [
      "{'udp': 50156}  , Total packets: 50156\n"
     ]
    }
   ],
   "source": [
    "print( f'{prot}  , Total packets: { len(pcap_file)}')"
   ],
   "metadata": {
    "collapsed": false
   }
  },
  {
   "cell_type": "code",
   "execution_count": 53,
   "outputs": [
    {
     "data": {
      "text/plain": "50156"
     },
     "execution_count": 53,
     "metadata": {},
     "output_type": "execute_result"
    }
   ],
   "source": [],
   "metadata": {
    "collapsed": false
   }
  }
 ],
 "metadata": {
  "kernelspec": {
   "display_name": "Python 3",
   "language": "python",
   "name": "python3"
  },
  "language_info": {
   "codemirror_mode": {
    "name": "ipython",
    "version": 2
   },
   "file_extension": ".py",
   "mimetype": "text/x-python",
   "name": "python",
   "nbconvert_exporter": "python",
   "pygments_lexer": "ipython2",
   "version": "2.7.6"
  }
 },
 "nbformat": 4,
 "nbformat_minor": 0
}
