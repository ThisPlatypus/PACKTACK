{
 "cells": [
  {
   "cell_type": "code",
   "execution_count": 3,
   "metadata": {
    "collapsed": true
   },
   "outputs": [],
   "source": [
    "from scapy.all import *\n",
    "\n",
    "\n",
    "\n",
    "pcap_file = rdpcap(\"C:\\\\Users\\\\chiar\\\\Downloads\\\\2018-10-02-13-12-30-192.168.100.103.pcap\")"
   ]
  },
  {
   "cell_type": "markdown",
   "source": [
    "# Protocolli presenti"
   ],
   "metadata": {
    "collapsed": false
   }
  },
  {
   "cell_type": "code",
   "execution_count": 1,
   "outputs": [
    {
     "ename": "NameError",
     "evalue": "name 'pcap_file' is not defined",
     "output_type": "error",
     "traceback": [
      "\u001B[0;31m---------------------------------------------------------------------------\u001B[0m",
      "\u001B[0;31mNameError\u001B[0m                                 Traceback (most recent call last)",
      "Cell \u001B[0;32mIn[1], line 2\u001B[0m\n\u001B[1;32m      1\u001B[0m prot\u001B[38;5;241m=\u001B[39m{}\n\u001B[0;32m----> 2\u001B[0m \u001B[38;5;28;01mfor\u001B[39;00m pack \u001B[38;5;129;01min\u001B[39;00m \u001B[43mpcap_file\u001B[49m:\n\u001B[1;32m      3\u001B[0m     a\u001B[38;5;241m=\u001B[39mpcap_file[\u001B[38;5;241m0\u001B[39m][\u001B[38;5;124m'\u001B[39m\u001B[38;5;124mIP\u001B[39m\u001B[38;5;124m'\u001B[39m]\u001B[38;5;241m.\u001B[39mproto\n\u001B[1;32m      4\u001B[0m     \u001B[38;5;28;01mif\u001B[39;00m a\u001B[38;5;241m==\u001B[39m\u001B[38;5;241m17\u001B[39m:\n",
      "\u001B[0;31mNameError\u001B[0m: name 'pcap_file' is not defined"
     ]
    }
   ],
   "source": [
    "prot={}\n",
    "for pack in pcap_file:\n",
    "    a=pcap_file[0]['IP'].proto\n",
    "    if a==17:\n",
    "        a='udp'\n",
    "    if a in prot.keys():\n",
    "        prot[a]+=1\n",
    "    else:\n",
    "        prot[a]=1"
   ],
   "metadata": {
    "collapsed": false
   }
  },
  {
   "cell_type": "code",
   "execution_count": 56,
   "outputs": [
    {
     "name": "stdout",
     "output_type": "stream",
     "text": [
      "{'udp': 50156}  , Total packets: 50156\n"
     ]
    }
   ],
   "source": [
    "print( f'{prot}  , Total packets: { len(pcap_file)}')"
   ],
   "metadata": {
    "collapsed": false
   }
  },
  {
   "cell_type": "code",
   "execution_count": 53,
   "outputs": [
    {
     "data": {
      "text/plain": "50156"
     },
     "execution_count": 53,
     "metadata": {},
     "output_type": "execute_result"
    }
   ],
   "source": [],
   "metadata": {
    "collapsed": false
   }
  }
 ],
 "metadata": {
  "kernelspec": {
   "display_name": "Python 3",
   "language": "python",
   "name": "python3"
  },
  "language_info": {
   "codemirror_mode": {
    "name": "ipython",
    "version": 2
   },
   "file_extension": ".py",
   "mimetype": "text/x-python",
   "name": "python",
   "nbconvert_exporter": "python",
   "pygments_lexer": "ipython2",
   "version": "2.7.6"
  }
 },
 "nbformat": 4,
 "nbformat_minor": 0
}
